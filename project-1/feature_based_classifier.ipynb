{
 "cells": [
  {
   "cell_type": "markdown",
   "id": "122a2f30-c412-4a41-9e9b-a54a341f350b",
   "metadata": {},
   "source": [
    "## Randomized Feature Based Least Square Classifiers"
   ]
  },
  {
   "cell_type": "code",
   "execution_count": 1,
   "id": "4cf51fc8-feb4-440f-a9ea-b2817da99f4a",
   "metadata": {},
   "outputs": [],
   "source": [
    "import scipy.io\n",
    "import matplotlib.pyplot as plt\n",
    "import numpy as np\n",
    "import random\n",
    "from tqdm.notebook import tqdm\n",
    "mat_contents = scipy.io.loadmat('mnist', appendmat=True)"
   ]
  },
  {
   "cell_type": "code",
   "execution_count": 2,
   "id": "4d54d62d-eb66-434d-a47f-c1229c086617",
   "metadata": {},
   "outputs": [],
   "source": [
    "def plot_confusion_matrix(conf_matrix, classes, title='Confusion Matrix', cmap=plt.cm.Blues):\n",
    "    plt.imshow(conf_matrix, interpolation='nearest', cmap=cmap)\n",
    "    plt.title(title)\n",
    "    plt.colorbar()\n",
    "\n",
    "    tick_marks = np.arange(len(classes))\n",
    "    plt.xticks(tick_marks, classes, rotation=45)\n",
    "    plt.yticks(tick_marks, classes)\n",
    "\n",
    "    plt.xlabel('Predicted Label')\n",
    "    plt.ylabel('True Label')\n",
    "\n",
    "    fmt = 'd'\n",
    "    thresh = conf_matrix.max() / 2.\n",
    "    for i in range(conf_matrix.shape[0]):\n",
    "        for j in range(conf_matrix.shape[1]):\n",
    "            plt.text(j, i, format(conf_matrix[i, j], fmt),\n",
    "                     ha=\"center\", va=\"center\",\n",
    "                     color=\"white\" if conf_matrix[i, j] > thresh else \"black\")\n",
    "\n",
    "    plt.tight_layout()\n",
    "    plt.show\n",
    "\n",
    "def normalize_data(data):\n",
    "    return data / 255.0"
   ]
  },
  {
   "cell_type": "code",
   "execution_count": 3,
   "id": "7fe444ff-0672-48be-a3a0-18ab7258fc1e",
   "metadata": {},
   "outputs": [],
   "source": [
    "def identity(x):\n",
    "    return x\n",
    "\n",
    "def sigmoid(x):\n",
    "    return 1 / (1 + np.exp(-x))\n",
    "\n",
    "def relu(x):\n",
    "    return np.maximum(0, x)\n",
    "    \n",
    "def sin(x):\n",
    "    return np.sin(x)\n",
    "    \n",
    "\"\"\"\n",
    "train_x: (60000, 785) -> (60000, 1000)\n",
    "\"\"\"\n",
    "def feature_map(train_x, L=1000, function=identity, seed=None):\n",
    "    if seed is not None:\n",
    "        np.random.seed(seed)\n",
    "    \n",
    "    # normalize_data(train_x)\n",
    "    # train_x = np.column_stack((train_x, np.ones(len(train_x)))) # shape (60000, 785)\n",
    "    train_x = np.column_stack((normalize_data(train_x), np.ones(len(train_x)))) # shape (60000, 785)\n",
    "\n",
    "    # A random matrix with Gaussian distribution\n",
    "    W = np.random.normal(0, 1, (train_x.shape[1], L)) # W has shape (785, 1000)\n",
    "\n",
    "    product = np.dot(train_x, W)\n",
    "    \n",
    "    product = function(product) # shape (60000, 1000)\n",
    "    \n",
    "    return product"
   ]
  },
  {
   "cell_type": "code",
   "execution_count": 4,
   "id": "e8e88232-40a4-4925-8f89-4a333f2c8843",
   "metadata": {},
   "outputs": [],
   "source": [
    "\"\"\"\n",
    "train_x: (60000, 784)\n",
    "train_y: (1, 60000)\n",
    "a, b: integers to train on\n",
    "\"\"\"\n",
    "def ovo_get_weights(train_x, train_y, a, b):\n",
    "    # Preprocess train data\n",
    "    \n",
    "    # train_x = np.column_stack((train_x, np.ones(len(train_x))))                                 # train_x: (60000, 785)\n",
    "    # train_y = np.where(train_y == a, 1, np.where(train_y == b, -1, 0)).astype('int8')       # train_y (60000, 1)\n",
    "    train_y = train_y.T\n",
    "    mask = np.where((train_y == a) | (train_y == b))[0]\n",
    "    masked_x = train_x[mask]\n",
    "    masked_y = train_y[mask]\n",
    "\n",
    "    masked_x = np.column_stack((masked_x, np.ones(len(masked_x))))\n",
    "    masked_y = np.where(masked_y == a, 1, -1).astype('int8')\n",
    "    \n",
    "    # Calculate weights\n",
    "    pinv = np.linalg.pinv(masked_x)                                 # pinv: (785, n) \n",
    "    return np.dot(pinv, masked_y)                                # weights: (785, 1)"
   ]
  },
  {
   "cell_type": "code",
   "execution_count": 5,
   "id": "1e64a130-bc7f-45e1-b369-da3fce273cc3",
   "metadata": {},
   "outputs": [],
   "source": [
    "\"\"\"\n",
    "weights: (785, 1)\n",
    "test_x: (60000, 784)\n",
    "test_y: (1, 60000)\n",
    "a, b: integers to train on\n",
    "\"\"\"\n",
    "def ovo_get_preds(weights, test_x, test_y, a, b):\n",
    "    # Preprocess test data\n",
    "    test_y = test_y.T                                              # test_y: (1, 10000) to (10000, 1)\n",
    "    normalize_data(test_x)\n",
    "    test_x = np.column_stack((test_x, np.ones(len(test_x))))       # test_x: (10000, 785)\n",
    "\n",
    "    # Calculate predictions\n",
    "    ovo_preds = np.dot(test_x, weights)                                # preds: (10000, 1)\n",
    "    ovo_preds = ovo_preds[:, 0]                                            \n",
    "    ovo_preds = np.where(ovo_preds >= 0, 1, -1).astype('int8')             \n",
    "\n",
    "    return ovo_preds"
   ]
  },
  {
   "cell_type": "code",
   "execution_count": 6,
   "id": "5ddb19e3-c01e-4ad0-aae8-d76a25ed59ac",
   "metadata": {},
   "outputs": [],
   "source": [
    "\"\"\"\n",
    "train_x: (60000, 784)\n",
    "train_y: (1, 60000)\n",
    "test_x: (10000, 1)\n",
    "test_y: (1, 60000)\n",
    "\"\"\"\n",
    "def ovo_classifier(train_x, train_y, test_x, test_y):\n",
    "    \n",
    "    votes = np.zeros((len(test_x), 10), dtype=int)\n",
    "    \n",
    "    pairs = [(i, j) for i in range(10) for j in range(i+1, 10)]\n",
    "\n",
    "    for (i, j) in tqdm(pairs):\n",
    "        ovo_preds = ovo_get_preds(\n",
    "                ovo_get_weights(train_x, train_y, i, j),\n",
    "                test_x, \n",
    "                test_y, \n",
    "                i, j)\n",
    "\n",
    "        # For every pair, increment the vote of a certain class in votes\n",
    "        for k in range(len(ovo_preds)):\n",
    "            if ovo_preds[k] == 1:\n",
    "                votes[k][i] += 1\n",
    "            elif ovo_preds[k] == -1:\n",
    "                votes[k][j] += 1\n",
    "    \n",
    "    return np.argmax(votes, axis=1)"
   ]
  },
  {
   "cell_type": "code",
   "execution_count": 7,
   "id": "f606b941-766a-4458-9eb4-032be33763a0",
   "metadata": {},
   "outputs": [],
   "source": [
    "\"\"\"\n",
    "preds: (10000, 1)\n",
    "test_y: (1, 10000)\n",
    "\"\"\"\n",
    "def eval_ovo_classifier(ovo_preds, test_y, title='Confusion Matrix'):\n",
    "    # Plot a confusion matrix\n",
    "    conf_matrix = [[0 for _ in range(10)] for _ in range(10)]    \n",
    "    for i in range(len(test_y[0])):\n",
    "        conf_matrix[test_y[0][i]][ovo_preds[i]] += 1\n",
    "    conf_matrix = np.array(conf_matrix)\n",
    "    class_names = ['0', '1', '2', '3', '4', '5', '6', '7', '8', '9']\n",
    "    plot_confusion_matrix(conf_matrix, class_names, title)\n",
    "\n",
    "    # Find the error rate\n",
    "    correct = 0\n",
    "    for i in range(10):\n",
    "        for j in range(10):\n",
    "            if i == j:\n",
    "                correct += conf_matrix[i][j]\n",
    "    acc = 100 * correct/10000\n",
    "    print(\"Accuracy: {:.2f}%\".format(acc, 2))\n",
    "    print(\"Error rate: {:.2f}%\".format(100 - acc, 2))"
   ]
  },
  {
   "cell_type": "code",
   "execution_count": 8,
   "id": "e8545d70-9dd9-4b8b-9de2-f1effd28752c",
   "metadata": {},
   "outputs": [],
   "source": [
    "train_x = np.array(mat_contents['trainX'])\n",
    "train_y = np.array(mat_contents['trainY'])\n",
    "test_x = np.array(mat_contents['testX'])\n",
    "test_y = np.array(mat_contents['testY'])"
   ]
  },
  {
   "cell_type": "code",
   "execution_count": 9,
   "id": "4ded9cc8-3e97-4708-bc90-ca22001a11a9",
   "metadata": {},
   "outputs": [],
   "source": [
    "seed_train_x = feature_map(train_x, L=100, function=identity, seed=1)\n",
    "seed_test_x = feature_map(test_x, L=100, function=identity, seed=1)\n",
    "\n",
    "# relu_train_x = feature_map(train_x, L=1000, function=relu, seed=1)\n",
    "# relu_test_x = feature_map(test_x, L=1000, function=relu, seed=1)\n",
    "\n",
    "# sig_train_x = feature_map(train_x, L=1000, function=sigmoid, seed=1)\n",
    "# sig_test_x = feature_map(test_x, L=1000, function=sigmoid, seed=1)\n",
    "\n",
    "# sig_train_x = feature_map(train_x, L=1000, function=sigmoid, seed=1)\n",
    "# sig_test_x = feature_map(test_x, L=1000, function=sigmoid, seed=1)\n",
    "\n",
    "# sin_train_x = feature_map(train_x, L=1000, function=sin, seed=1)\n",
    "# sin_test_x = feature_map(test_x, L=1000, function=sin, seed=1)"
   ]
  },
  {
   "cell_type": "code",
   "execution_count": 10,
   "id": "9f461a23-52a1-4f7f-8c6a-c0386a5a1041",
   "metadata": {},
   "outputs": [
    {
     "data": {
      "application/vnd.jupyter.widget-view+json": {
       "model_id": "8554022250de4574a58c13921d13f2f0",
       "version_major": 2,
       "version_minor": 0
      },
      "text/plain": [
       "  0%|          | 0/45 [00:00<?, ?it/s]"
      ]
     },
     "metadata": {},
     "output_type": "display_data"
    }
   ],
   "source": [
    "seed_preds = ovo_classifier(seed_train_x, train_y, seed_test_x, test_y)"
   ]
  },
  {
   "cell_type": "code",
   "execution_count": 11,
   "id": "7a9916b7-b825-4944-b13d-d58d8171d827",
   "metadata": {},
   "outputs": [
    {
     "name": "stdout",
     "output_type": "stream",
     "text": [
      "(60000, 100)\n",
      "[[  2.68491233   4.76735197   2.91834676 ...  -7.10323827   3.05817366\n",
      "   -0.06787392]\n",
      " [  3.98945866  -7.29241563   7.41488422 ... -21.21188457   1.24243196\n",
      "    5.9757484 ]\n",
      " [ 12.95091612  -4.78775149   6.77991986 ...  -7.01163058 -17.68195606\n",
      "    7.22308448]\n",
      " ...\n",
      " [  3.42039332  14.71079006 -11.72737526 ...  -6.52530349   3.73448802\n",
      "   11.27357296]\n",
      " [  1.96108875  -7.41680462   2.10316192 ...  -7.98763546  -0.65650546\n",
      "    4.97772028]\n",
      " [  5.62497969  18.9218007    0.16817858 ...   0.339894    -2.35739451\n",
      "    4.47044047]]\n",
      "(10000, 100)\n",
      "[[  2.68491233   4.76735197   2.91834676 ...  -7.10323827   3.05817366\n",
      "   -0.06787392]\n",
      " [  3.98945866  -7.29241563   7.41488422 ... -21.21188457   1.24243196\n",
      "    5.9757484 ]\n",
      " [ 12.95091612  -4.78775149   6.77991986 ...  -7.01163058 -17.68195606\n",
      "    7.22308448]\n",
      " ...\n",
      " [  3.42039332  14.71079006 -11.72737526 ...  -6.52530349   3.73448802\n",
      "   11.27357296]\n",
      " [  1.96108875  -7.41680462   2.10316192 ...  -7.98763546  -0.65650546\n",
      "    4.97772028]\n",
      " [  5.62497969  18.9218007    0.16817858 ...   0.339894    -2.35739451\n",
      "    4.47044047]]\n"
     ]
    }
   ],
   "source": [
    "print(seed_train_x.shape)\n",
    "print(seed_train_x)\n",
    "print(seed_test_x.shape)\n",
    "print(seed_train_x)"
   ]
  },
  {
   "cell_type": "code",
   "execution_count": 12,
   "id": "f1baa92f-b025-4bc3-a991-e8583c768406",
   "metadata": {},
   "outputs": [
    {
     "name": "stdout",
     "output_type": "stream",
     "text": [
      "Accuracy: 90.90%\n",
      "Error rate: 9.10%\n"
     ]
    },
    {
     "data": {
      "image/png": "[encoded data removed]",
      "text/plain": [
       "<Figure size 640x480 with 2 Axes>"
      ]
     },
     "metadata": {},
     "output_type": "display_data"
    }
   ],
   "source": [
    "eval_ovo_classifier(seed_preds, test_y, 'Same seed specified')"
   ]
  },
  {
   "cell_type": "code",
   "execution_count": 13,
   "id": "7403f8ed-0196-4a9f-8c54-ac9aef711578",
   "metadata": {},
   "outputs": [],
   "source": [
    "# relu_preds = ovo_classifier(relu_train_x, train_y, relu_test_x, test_y)"
   ]
  },
  {
   "cell_type": "code",
   "execution_count": 14,
   "id": "8c9371a9-d680-4807-89b6-4e31a7c5875e",
   "metadata": {},
   "outputs": [],
   "source": [
    "# eval_ovo_classifier(relu_preds, test_y, 'ReLU')"
   ]
  },
  {
   "cell_type": "code",
   "execution_count": 15,
   "id": "6a16a208-1232-4559-bfc2-cfbf55d17647",
   "metadata": {},
   "outputs": [],
   "source": [
    "# sig_preds = ovo_classifier(sig_train_x, train_y, sig_test_x, test_y)"
   ]
  },
  {
   "cell_type": "code",
   "execution_count": 16,
   "id": "c64e35ad-4079-4d2a-bfc3-34d41523529f",
   "metadata": {},
   "outputs": [],
   "source": [
    "# eval_ovo_classifier(sig_preds, test_y, 'Sigmoid')"
   ]
  },
  {
   "cell_type": "code",
   "execution_count": 17,
   "id": "4f6414e5-41ab-435e-b2da-d12b7a1c5d26",
   "metadata": {},
   "outputs": [],
   "source": [
    "# sin_preds = ovo_classifier(sin_train_x, train_y, sin_test_x, test_y)"
   ]
  },
  {
   "cell_type": "code",
   "execution_count": 18,
   "id": "124fdeb4-20af-4d1d-aca2-e2809bc78ec0",
   "metadata": {},
   "outputs": [],
   "source": [
    "# eval_ovo_classifier(sin_preds, test_y, 'Sinusoid')"
   ]
  },
  {
   "cell_type": "code",
   "execution_count": 19,
   "id": "ee56074c-63ca-4999-8f67-fece9b9ffc3f",
   "metadata": {},
   "outputs": [],
   "source": [
    "def eval_features(preds, test_y):\n",
    "    count = 0\n",
    "    for i in range(len(test_y[0])):\n",
    "        if test_y[0][i] == preds[i]:\n",
    "            count += 1\n",
    "\n",
    "    return 100 - (100 * count / len(test_y[0]))"
   ]
  }
 ],
 "metadata": {
  "kernelspec": {
   "display_name": "Python 3 (ipykernel)",
   "language": "python",
   "name": "python3"
  },
  "language_info": {
   "codemirror_mode": {
    "name": "ipython",
    "version": 3
   },
   "file_extension": ".py",
   "mimetype": "text/x-python",
   "name": "python",
   "nbconvert_exporter": "python",
   "pygments_lexer": "ipython3",
   "version": "3.10.9"
  }
 },
 "nbformat": 4,
 "nbformat_minor": 5
}
