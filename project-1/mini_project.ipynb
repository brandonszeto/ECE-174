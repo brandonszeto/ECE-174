{
 "cells": [
  {
   "cell_type": "markdown",
   "id": "ac44c126-7023-4742-bca7-bceedab3f312",
   "metadata": {},
   "source": [
    "## Mini Project 1: Least Squares Based Supervised Classification"
   ]
  },
  {
   "cell_type": "markdown",
   "id": "e7dd518d-f503-4ef3-ab13-40c080d390e9",
   "metadata": {},
   "source": [
    "#### Background"
   ]
  },
  {
   "cell_type": "markdown",
   "id": "24870597-8968-4d9b-89aa-d34f713ee064",
   "metadata": {},
   "source": [
    "The below splits the contents of `mnist.mat` into 60,000 training image/label pairs, and 10,000 testing image/label pairs."
   ]
  },
  {
   "cell_type": "code",
   "execution_count": 1,
   "id": "c1459479-87fe-40ba-8922-ba1c129f5422",
   "metadata": {},
   "outputs": [],
   "source": [
    "import scipy.io\n",
    "import matplotlib.pyplot as plt\n",
    "import numpy as np\n",
    "import random\n",
    "from tqdm import tqdm"
   ]
  },
  {
   "cell_type": "code",
   "execution_count": 2,
   "id": "3c39e9b2-9c46-4943-ab1f-1109733970bf",
   "metadata": {},
   "outputs": [],
   "source": [
    "mat_contents = scipy.io.loadmat('mnist', appendmat=True)\n",
    "trainImages = mat_contents['trainX'] # trainImages.shape returns (60000, 784)\n",
    "trainLabels = mat_contents['trainY'] # trainLabels.shape returns (1, 60000)\n",
    "testImages = mat_contents['testX']   # testLabels.shape returns (10000, 784)\n",
    "testLabels = mat_contents['testY']   # testLabels.shape returns (1, 10000)"
   ]
  },
  {
   "cell_type": "markdown",
   "id": "4b2888f7-2c00-49e2-8e37-8fd22877b3cb",
   "metadata": {},
   "source": [
    "Defining a function to help plot confusion matrices:"
   ]
  },
  {
   "cell_type": "code",
   "execution_count": 3,
   "id": "525d025f-3ca0-42a3-ba86-e967d5dede6a",
   "metadata": {},
   "outputs": [],
   "source": [
    "\"\"\"\n",
    "Plot a confusion matrix using Matplotlib.\n",
    "\n",
    "Parameters:\n",
    "- conf_matrix: 2D numpy array, the confusion matrix\n",
    "- classes: List of class names\n",
    "- title: Title of the plot (default is 'Confusion Matrix')\n",
    "- cmap: Colormap for the plot (default is plt.cm.Blues)\n",
    "- return: Confusion matrix\n",
    "\"\"\"\n",
    "def plot_confusion_matrix(conf_matrix, classes, title='Confusion Matrix', cmap=plt.cm.Blues):\n",
    "    plt.imshow(conf_matrix, interpolation='nearest', cmap=cmap)\n",
    "    plt.title(title)\n",
    "    plt.colorbar()\n",
    "\n",
    "    tick_marks = np.arange(len(classes))\n",
    "    plt.xticks(tick_marks, classes, rotation=45)\n",
    "    plt.yticks(tick_marks, classes)\n",
    "\n",
    "    plt.xlabel('Predicted Label')\n",
    "    plt.ylabel('True Label')\n",
    "\n",
    "    fmt = 'd'\n",
    "    thresh = conf_matrix.max() / 2.\n",
    "    for i in range(conf_matrix.shape[0]):\n",
    "        for j in range(conf_matrix.shape[1]):\n",
    "            plt.text(j, i, format(conf_matrix[i, j], fmt),\n",
    "                     ha=\"center\", va=\"center\",\n",
    "                     color=\"white\" if conf_matrix[i, j] > thresh else \"black\")\n",
    "\n",
    "    plt.tight_layout()\n",
    "    plt.show()"
   ]
  },
  {
   "cell_type": "markdown",
   "id": "3cb79d34-355a-4693-bf85-6e8997e17095",
   "metadata": {},
   "source": [
    "Visualizing ten random handwritten digits using `matplotlib`:"
   ]
  },
  {
   "cell_type": "code",
   "execution_count": 4,
   "id": "56ff24c9-ae5b-47c0-b833-08f1aeeec004",
   "metadata": {
    "scrolled": true
   },
   "outputs": [
    {
     "data": {
      "image/png": "[encoded data removed]",
      "text/plain": [
       "<Figure size 640x480 with 10 Axes>"
      ]
     },
     "metadata": {},
     "output_type": "display_data"
    }
   ],
   "source": [
    "# Reshape the images from (60000, 784) to (60000, 28, 28)\n",
    "displayImages = trainImages.reshape(60000, 28, 28)\n",
    "\n",
    "# Transpose the labels to (60000,)\n",
    "displayLabels = trainLabels.squeeze()\n",
    "\n",
    "# Visualize 10 random images and labels\n",
    "for i in range(10):\n",
    "    rand = random.randint(0,59991)\n",
    "    plt.subplot(2, 5, i + 1)\n",
    "    plt.imshow(displayImages[rand], cmap='gray')\n",
    "    plt.title(f\"Label: {displayLabels[rand]}\")\n",
    "    plt.axis('off')\n",
    "\n",
    "plt.tight_layout()\n",
    "plt.show()"
   ]
  },
  {
   "cell_type": "markdown",
   "id": "91cb1ffe-fecc-484b-9074-3895e204be3b",
   "metadata": {},
   "source": [
    "#### Problem 1: Least Squares Classifier"
   ]
  },
  {
   "cell_type": "markdown",
   "id": "43c306ae-56e2-4f18-9bef-13f6b5bc0a3f",
   "metadata": {},
   "source": [
    "##### Task 1\n",
    "Write your own code to implement the (i) one-versus-one and (ii) one-versus-all multi-class classifier using the binary classifier as building blocks. Your code should take appropriately labeled training data as the input, and determine the weights of the constituent binary classifiers as the output."
   ]
  },
  {
   "cell_type": "markdown",
   "id": "a4ceec80-677c-4163-981c-cf6da129873b",
   "metadata": {},
   "source": [
    "##### Binary classifier building block\n",
    "Given $N$ data points $\\left\\{ (\\mathbf{\\vec{x}_1}, y_1), \\ldots, (\\mathbf{\\vec{x}_N}, y_N) \\right\\}$\n",
    " where $x_i$ denotes the $i^{th}$ feature vector and $y_i \\in \\left\\{ -1, 1 \\right\\}$ is the corresponding label for each data point. Given $N$ training data points, we try to find the best linear regression model by solving the following least squares problem:\n",
    "$$ \\operatorname{min}_{\\beta, \\alpha} \\sum_{i = 1}^N \\left( y_i - \\mathbf{\\beta^T \\vec{x}_i} - \\alpha \\right)^2$$"
   ]
  },
  {
   "cell_type": "markdown",
   "id": "0c284135-17a1-4b5c-b5b0-2f3d936710b9",
   "metadata": {},
   "source": [
    "Finding the best linear regression model cannot be found by simply solving $\\mathbf{A\\vec{x}}= \\mathbf{\\vec{y}}$, where\n",
    "\n",
    "$$ \n",
    "\\mathbf{A} = \\begin{bmatrix}\n",
    "x^{(1)}_1 & x^{(1)}_2 & \\cdots & x^{(1)}_n & 1 \\\\\n",
    "x^{(2)}_1 & x^{(2)}_2 & \\cdots & x^{(2)}_n & 1 \\\\\n",
    "\\vdots & \\vdots & \\ddots & \\vdots & \\vdots \\\\\n",
    "x^{(L)}_1 & x^{(L)}_2 & \\cdots & x^{(L)}_n & 1 \\\\\n",
    "\\end{bmatrix},\n",
    "\\mathbf{\\vec{x}} = \\begin{bmatrix}\n",
    "\\beta_1 \\\\\n",
    "\\beta_2 \\\\\n",
    "\\vdots \\\\\n",
    "\\beta_n \\\\\n",
    "\\alpha\n",
    "\\end{bmatrix},\n",
    "\\mathbf{\\vec{y}} = \\begin{bmatrix}\n",
    "y_1 \\\\\n",
    "y_2 \\\\\n",
    "\\vdots \\\\\n",
    "y_k\n",
    "\\end{bmatrix}\n",
    "$$\n",
    "\n",
    "and $L$ is the number of samples of $\\mathbf{\\vec{x}}$ and $n$ is the size of the feature vectors. This is because we are not guaranteed that $\\mathbf{\\vec{x}} \\in \\mathcal{R}(\\mathbf{A})$. Finding the least squares solution $\\mathbf{\\vec{x}^*}$ where $\\mathbf{A\\vec{x}^*}$ is as close to $\\mathbf{\\vec{y}}$ as possible is equivalent to minimizing the length between $\\mathbf{\\vec{y}}$ and $\\mathbf{A\\vec{x}^*}$ as defined above. From lecture, the notion of length we want to minimize is the $\\ell_2$ norm as defined as:\n",
    "\n",
    "$$|| \\mathbf{\\vec{y}} - \\mathbf{A\\vec{x}^*}||_2^2 = \\left( \\sqrt{\\sum_{i = 1}^N \\left( y_i - \\mathbf{\\beta^T \\vec{x}_i} - \\alpha \\right)^2} \\right)^2 = \\sum_{i = 1}^N \\left( y_i - \\mathbf{\\beta^T \\vec{x}_i} - \\alpha \\right)^2$$"
   ]
  },
  {
   "cell_type": "markdown",
   "id": "0fa6e09d-91ce-457b-9904-0b7ed3f15126",
   "metadata": {},
   "source": [
    "From lecture, we know the closest vector $\\mathbf{A\\vec{x}^*}$ (i.e. our best approximation) is the projection of the vector $\\mathbf{\\vec{y}}$ onto $\\mathcal{R}(\\mathbf{A})$ (or the minimum $\\ell_2$ norm). This means that the vector from $\\mathbf{A\\vec{x}^*}$ to $\\mathbf{\\vec{y}}$ is orthogonal to $\\mathcal{R}(\\mathbf{A})$. Expressing this vector as $\\mathbf{A\\vec{x}^*} - \\mathbf{\\vec{y}}$, we can write:\n",
    "\n",
    "$$\\mathbf{A^T}(\\mathbf{A\\vec{x}^*} - \\mathbf{\\vec{y}}) = \\mathbf{\\vec{0}}$$\n",
    "\n",
    "Here, $\\mathbf{A\\vec{x}^*} - \\mathbf{\\vec{y}} \\in \\mathcal{N}(\\mathbf{A^T})$. Now to rewrite this in terms of $\\mathbf{\\vec{x}^*}$, we can perform the following operations:\n",
    "\n",
    "$$ \\begin{aligned}\n",
    "\\mathbf{A^T}(\\mathbf{A\\vec{x}^*} - \\mathbf{\\vec{y}}) &= \\mathbf{\\vec{0}} \\\\\n",
    "\\mathbf{A^T A\\vec{x}^*} - \\mathbf{A^T \\vec{y}} &= \\mathbf{\\vec{0}} \\\\\n",
    "\\mathbf{A^T A\\vec{x}^*} &= \\mathbf{A^T \\vec{y}} \\\\\n",
    "\\mathbf{\\vec{x}}^* &= \\mathbf{\\left( A^T A \\right)^{-1} A^T \\vec{y}} \\\\\n",
    "\\end{aligned} $$\n",
    "\n",
    "Rewriting $\\mathbf{\\left( A^T A \\right)^{-1} A^T}$ as $A^{+}$, we have:\n",
    "\n",
    "$$\n",
    "\\mathbf{\\vec{x}}^* = A^{+} \\mathbf{\\vec{y}}\n",
    "$$\n",
    "\n",
    "where $A^{+}$ is known as the [Moore-Penrose inverse](https://en.wikipedia.org/wiki/Moore–Penrose_inverse)."
   ]
  },
  {
   "cell_type": "markdown",
   "id": "c2c58661-c81e-496b-be18-f843c064a84d",
   "metadata": {},
   "source": [
    "Now, let us obtain the Moore-Penrose inverse by using `np.linalg.pinv()`. In the below function definition, we preprocess the dataset such that we have the appropriate behavior in our implementation of the binary classifier. This includes adding an extra column of ones to our matrix $A$ to account for an intercept term\n",
    "\n",
    "$\\mathbf{A}$ by appending an intercept term to our dataset such that `trainImages.shape` returns `(60000, 785)`."
   ]
  },
  {
   "cell_type": "code",
   "execution_count": 5,
   "id": "9443ca8e-6e53-43fd-8bc5-a81438a4fa89",
   "metadata": {},
   "outputs": [],
   "source": [
    "\"\"\"\n",
    "Train a binary classifier using 60,000 samples from the MNIST \n",
    "dataset on a specified number.\n",
    "\n",
    "Parameters:\n",
    "- number: The specified number to train the binary classifier on.\n",
    "- return: The solution to the least squares problem.\n",
    "\"\"\"\n",
    "def binary_classifier(train_x, train_y, number):\n",
    "    A = np.column_stack((train_x, np.ones(len(train_x))))\n",
    "    Y = train_y.astype('int8')\n",
    "    \n",
    "    for i in range(Y.shape[1]):\n",
    "        if (Y[0, i] != number):\n",
    "            Y[0, i] = -1\n",
    "        else:\n",
    "            Y[0, i] = 1\n",
    "\n",
    "    psuedo_inverse = np.linalg.pinv(A)\n",
    "    \n",
    "    return np.dot(psuedo_inverse, Y.T)"
   ]
  },
  {
   "cell_type": "code",
   "execution_count": 22,
   "id": "b0736ef3-f084-4040-85bd-9dde194f4ccd",
   "metadata": {},
   "outputs": [],
   "source": [
    "\"\"\"\n",
    "Evaluate a binary classifier on a specified number.\n",
    "\n",
    "Parameters:\n",
    "- test_x: The matrix of the testing dataset.\n",
    "- test_y: The matrix of the testing labels.\n",
    "- number: The specified number to test the binary classifier on.\n",
    "- return: A confusion matrix and accuracies.\n",
    "\"\"\"\n",
    "def eval_binary_classifier(test_x, test_y, weights, number):\n",
    "    test_A = np.column_stack((test_x, np.ones(len(test_x))))\n",
    "    result = np.dot(test_A, weights)\n",
    "            \n",
    "    true_number_count = 0\n",
    "    pred_number_count = 0\n",
    "    fp = 0\n",
    "    fn = 0\n",
    "    tp = 0\n",
    "    tn = 0\n",
    "\n",
    "    for i in range(10000):\n",
    "        # Count the number of correct positives\n",
    "        if (result[i] >= 0) and (test_y[0][i] == number):\n",
    "            tp += 1\n",
    "\n",
    "        # Count the number of correct negatives\n",
    "        if (result[i] < 0) and (test_y[0][i] != number):\n",
    "            tn += 1\n",
    "\n",
    "        # Count the number of false positives\n",
    "        if (result[i] >= 0) and (test_y[0][i] != number):\n",
    "            fp += 1\n",
    "\n",
    "        # Count the number of false negatives\n",
    "        if (result[i] < 0) and (test_y[0][i] == number):\n",
    "            fn += 1\n",
    "\n",
    "    conf_matrix = np.array([[tp, fn],\n",
    "                            [fp, tn]])\n",
    "\n",
    "    class_names = [f'{number}', f'Not {number}']\n",
    "\n",
    "    plot_confusion_matrix(conf_matrix, class_names)\n",
    "\n",
    "    "
   ]
  },
  {
   "cell_type": "code",
   "execution_count": 25,
   "id": "566ce83b-467e-4502-9f40-d10f94e07440",
   "metadata": {},
   "outputs": [],
   "source": [
    "normalized_x = np.array(mat_contents['trainX']) / 255.0\n",
    "normalized_y = np.array(mat_contents['trainY'])\n",
    "weights_0 = binary_classifier(normalized_x, normalized_y , 3)"
   ]
  },
  {
   "cell_type": "code",
   "execution_count": 26,
   "id": "509f493a-3080-4a30-86cf-ba77f179d668",
   "metadata": {},
   "outputs": [
    {
     "data": {
      "image/png": "[encoded data removed]",
      "text/plain": [
       "<Figure size 640x480 with 2 Axes>"
      ]
     },
     "metadata": {},
     "output_type": "display_data"
    }
   ],
   "source": [
    "normalized_test_x = np.array(mat_contents['testX']) / 255.0\n",
    "normalized_test_y = np.array(mat_contents['testY'])\n",
    "eval_binary_classifier(normalized_test_x, normalized_test_y, weights_0, 3)"
   ]
  },
  {
   "cell_type": "markdown",
   "id": "9a335619-dcc6-4d91-9b6b-6742dc49c27b",
   "metadata": {},
   "source": [
    "Let $\\mathbf{\\beta^*}, \\alpha^*$ be the solution to the above problem. Then the **binary least squares classifier** $\\mathbf{\\hat{f}(x)}$ is given by\n",
    "$$ \\hat{f}(\\mathbf{x}) = \\operatorname{sign}(\\mathbf{{\\beta^*}^T x} + \\alpha^*)$$\n",
    "for arbitrary test data **x**. Here $\\operatorname{sign}(a) = 1$ for $a \\geq 0$ and $-1$ for $a < 0$."
   ]
  },
  {
   "cell_type": "markdown",
   "id": "8b3b5483-3be0-415d-b164-5dff8d04a7f5",
   "metadata": {},
   "source": [
    "Now, we can take the sign of each entry of $y$ to the binary classifier."
   ]
  },
  {
   "cell_type": "markdown",
   "id": "0dc3122c-d5d4-4a71-89b1-016151394eab",
   "metadata": {},
   "source": [
    "##### Task 2\n",
    "Evaluate the training error of both classifiers using error rate and confusion matrix:\n",
    "- The error rate is the total number of errors in predicted label divided by the total number of inputs being classified.\n",
    "- Confusion matrix (ref. Pg. 287 and 298 from textbook)"
   ]
  },
  {
   "cell_type": "markdown",
   "id": "d0a11105-2f8b-49fc-bd82-46894c3b63b0",
   "metadata": {},
   "source": [
    "##### Task 3\n",
    "Evaluate the performance of both multi-class classifiers on the test data. Comment on their performance. How well do they generalize on the test data? Which digits are easy to recognize, which ones are harder?"
   ]
  },
  {
   "cell_type": "markdown",
   "id": "17290655-a5a6-4720-87cb-ae9657a54832",
   "metadata": {},
   "source": [
    "#### Problem 2: Randomized Feature Based Least Square Classifiers"
   ]
  },
  {
   "cell_type": "markdown",
   "id": "96312ea0-a4a6-4cdf-a697-88e9626f3873",
   "metadata": {},
   "source": [
    "##### Task 1\n",
    "Modify the code for Problem 1 to learn the multi-class classifier in the feature space. Use the following non-linear mappings to construct your feature vectors:\n",
    "- **Identity Function:** $ g(x) = x $\n",
    "- **Sigmoid Function:** $ g(x) = \\frac{1}{1 + e^{-x}} $\n",
    "- **Sinusoidal Function:** $ g(x) = \\operatorname{sin}(x) $\n",
    "- **Rectified Linear Unit (ReLU) Function:** $ g(x) = max(x,0) $\n",
    " \n",
    "Assume that $L = 1000$ for this part. Compare the classification performance for different choices of the feature mapping by changing the non-linearity. Do these feature mappings perform better than the classifier learnt in Problem 2 on (i) Training data (ii) Testing data? Which feature mapping generalizes well, i.e., continues to perform well on the testing data? Discuss your results."
   ]
  },
  {
   "cell_type": "markdown",
   "id": "f6c4c858-fed9-4d19-b053-596c912809a3",
   "metadata": {},
   "source": [
    "##### Task 2\n",
    "Vary the number of features $L$, and plot the error rate as a function of the number of features $L$. Comment on how adding more features affects your classifier design."
   ]
  }
 ],
 "metadata": {
  "kernelspec": {
   "display_name": "Python 3 (ipykernel)",
   "language": "python",
   "name": "python3"
  },
  "language_info": {
   "codemirror_mode": {
    "name": "ipython",
    "version": 3
   },
   "file_extension": ".py",
   "mimetype": "text/x-python",
   "name": "python",
   "nbconvert_exporter": "python",
   "pygments_lexer": "ipython3",
   "version": "3.10.9"
  }
 },
 "nbformat": 4,
 "nbformat_minor": 5
}
