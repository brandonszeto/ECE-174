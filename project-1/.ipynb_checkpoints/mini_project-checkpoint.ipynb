{
 "cells": [
  {
   "cell_type": "markdown",
   "id": "ac44c126-7023-4742-bca7-bceedab3f312",
   "metadata": {},
   "source": [
    "## Mini Project 1: Least Squares Based Supervised Classification"
   ]
  },
  {
   "cell_type": "markdown",
   "id": "e7dd518d-f503-4ef3-ab13-40c080d390e9",
   "metadata": {},
   "source": [
    "#### Background"
   ]
  },
  {
   "cell_type": "markdown",
   "id": "24870597-8968-4d9b-89aa-d34f713ee064",
   "metadata": {},
   "source": [
    "The below splits the contents of `mnist.mat` into 60,000 training image/label pairs, and 10,000 testing image/label pairs."
   ]
  },
  {
   "cell_type": "code",
   "execution_count": 1,
   "id": "fae1ecd0-112a-4d7e-a9e1-a7bd374d4a97",
   "metadata": {},
   "outputs": [],
   "source": [
    "import scipy.io\n",
    "mat_contents = scipy.io.loadmat('mnist', appendmat=True)\n",
    "trainImages = mat_contents['trainX'] # trainImages.shape returns (60000, 784)\n",
    "trainLabels = mat_contents['trainY'] # trainLabels.shape returns (1, 60000)\n",
    "testImages = mat_contents['testX']   # testLabels.shape returns (10000, 784)\n",
    "testLabels = mat_contents['testY']   # testLabels.shape returns (1, 10000)"
   ]
  },
  {
   "cell_type": "markdown",
   "id": "3cb79d34-355a-4693-bf85-6e8997e17095",
   "metadata": {},
   "source": [
    "Here, I am visualizing ten random handwritten digits using `matplotlib`."
   ]
  },
  {
   "cell_type": "code",
   "execution_count": 2,
   "id": "56ff24c9-ae5b-47c0-b833-08f1aeeec004",
   "metadata": {
    "scrolled": true
   },
   "outputs": [
    {
     "data": {
      "image/png": "[encoded data removed]",
      "text/plain": [
       "<Figure size 640x480 with 10 Axes>"
      ]
     },
     "metadata": {},
     "output_type": "display_data"
    }
   ],
   "source": [
    "import matplotlib.pyplot as plt\n",
    "import random\n",
    "\n",
    "# Reshape the images from (60000, 784) to (60000, 28, 28)\n",
    "displayImages = trainImages.reshape(60000, 28, 28)\n",
    "\n",
    "# Transpose the labels to (60000,)\n",
    "displayLabels = trainLabels.squeeze()\n",
    "\n",
    "# Visualize 10 random images and labels\n",
    "for i in range(10):\n",
    "    rand = random.randint(0,59991)\n",
    "    plt.subplot(2, 5, i + 1)\n",
    "    plt.imshow(displayImages[rand], cmap='gray')\n",
    "    plt.title(f\"Label: {displayLabels[rand]}\")\n",
    "    plt.axis('off')\n",
    "\n",
    "plt.tight_layout()\n",
    "plt.show()"
   ]
  },
  {
   "cell_type": "markdown",
   "id": "91cb1ffe-fecc-484b-9074-3895e204be3b",
   "metadata": {},
   "source": [
    "#### Problem 1: Least Squares Classifier"
   ]
  },
  {
   "cell_type": "markdown",
   "id": "43c306ae-56e2-4f18-9bef-13f6b5bc0a3f",
   "metadata": {},
   "source": [
    "##### Task 1\n",
    "Write your own code to implement the (i) one-versus-one and (ii) one-versus-all multi-class classifier using the binary classifier as building blocks. Your code should take appropriately labeled training data as the input, and determine the weights of the constituent binary classifiers as the output."
   ]
  },
  {
   "cell_type": "markdown",
   "id": "a4ceec80-677c-4163-981c-cf6da129873b",
   "metadata": {},
   "source": [
    "##### Binary classifier building block\n",
    "Given $N$ data points $\\left\\{ (\\mathbf{\\vec{x}_1}, y_1), \\ldots, (\\mathbf{\\vec{x}_N}, y_N) \\right\\}$\n",
    " where $x_i$ denotes the $i^{th}$ feature vector and $y_i \\in \\left\\{ -1, 1 \\right\\}$ is the corresponding label for each data point. Given $N$ training data points, we try to find the best linear regression model by solving the following least squares problem:\n",
    "$$ \\operatorname{min}_{\\beta, \\alpha} \\sum_{i = 1}^N \\left( y_i - \\mathbf{\\beta^T \\vec{x}_i} - \\alpha \\right)^2$$"
   ]
  },
  {
   "cell_type": "markdown",
   "id": "9438b72a-c66c-494f-a033-0286cf7e07b7",
   "metadata": {},
   "source": [
    "Finding the best linear regression model cannot be found by simply solving $\\mathbf{A\\vec{x}}= \\mathbf{\\vec{y}}$, where\n",
    "\n",
    "$$ \n",
    "\\mathbf{A} = \\begin{bmatrix}\n",
    "x^{(1)}_1 & x^{(1)}_2 & \\cdots & x^{(1)}_n & 1 \\\\\n",
    "x^{(2)}_1 & x^{(2)}_2 & \\cdots & x^{(2)}_n & 1 \\\\\n",
    "\\vdots & \\vdots & \\ddots & \\vdots & \\vdots \\\\\n",
    "x^{(L)}_1 & x^{(L)}_2 & \\cdots & x^{(L)}_n & 1 \\\\\n",
    "\\end{bmatrix},\n",
    "\\mathbf{\\vec{x}} = \\begin{bmatrix}\n",
    "\\beta_1 \\\\\n",
    "\\beta_2 \\\\\n",
    "\\vdots \\\\\n",
    "\\beta_n \\\\\n",
    "\\alpha\n",
    "\\end{bmatrix},\n",
    "\\mathbf{\\vec{y}} = \\begin{bmatrix}\n",
    "y_1 \\\\\n",
    "y_2 \\\\\n",
    "\\vdots \\\\\n",
    "y_k\n",
    "\\end{bmatrix}\n",
    "$$\n",
    "\n",
    "and $L$ is the number of samples of $\\mathbf{\\vec{x}}$ and $n$ is the size of the feature vectors. This is because we are not guaranteed that $\\mathbf{\\vec{x}} \\in \\mathcal{R}(\\mathbf{A})$. Finding the least squares solution $\\mathbf{\\vec{x}^*}$ where $\\mathbf{A\\vec{x}^*}$ is as close to $\\mathbf{\\vec{y}}$ as possible is equivalent to minimizing the length between $\\mathbf{\\vec{y}}$ and $\\mathbf{A\\vec{x}^*}$ as defined above. From lecture, the notion of length we want to minimize is the $\\ell_2$ norm as defined as:\n",
    "\n",
    "$$|| \\mathbf{\\vec{y}} - \\mathbf{A\\vec{x}^*}||_2^2 = \\left( \\sqrt{\\sum_{i = 1}^N \\left( y_i - \\mathbf{\\beta^T \\vec{x}_i} - \\alpha \\right)^2} \\right)^2 = \\sum_{i = 1}^N \\left( y_i - \\mathbf{\\beta^T \\vec{x}_i} - \\alpha \\right)^2$$\n",
    "\n",
    "From homework 2, we know the closest vector $\\mathbf{A\\vec{x}^*}$ (i.e. our best approximation) is the projection of the vector $\\mathbf{\\vec{y}}$ onto $\\mathcal{R}(\\mathbf{A})$ (or the minimum $\\ell_2$ norm). This means that the vector from $\\mathbf{A\\vec{x}^*}$ to $\\mathbf{\\vec{y}}$ is orthogonal to $\\mathcal{R}(\\mathbf{A})$. Expressing this vector as $\\mathbf{A\\vec{x}^*} - \\mathbf{\\vec{y}}$, we can write:\n",
    "\n",
    "$$\\mathbf{A^T}(\\mathbf{A\\vec{x}^*} - \\mathbf{\\vec{y}}) = \\mathbf{\\vec{0}}$$\n",
    "\n",
    "Here, $\\mathbf{A\\vec{x}^*} - \\mathbf{\\vec{y}} \\in \\mathcal{N}(\\mathbf{A^T})$. Now to rewrite this in terms of $\\mathbf{\\vec{x}^*}$, we can perform the following operations:\n",
    "\n",
    "$$ \\begin{aligned}\n",
    "\\mathbf{A^T}(\\mathbf{A\\vec{x}^*} - \\mathbf{\\vec{y}}) &= \\mathbf{\\vec{0}} \\\\\n",
    "\\mathbf{A^T A\\vec{x}^*} - \\mathbf{A^T \\vec{y}} &= \\mathbf{\\vec{0}} \\\\\n",
    "\\mathbf{A^T A\\vec{x}^*} &= \\mathbf{A^T \\vec{y}} \\\\\n",
    "\\mathbf{\\vec{x}}^* &= \\mathbf{\\left( A^T A \\right)^{-1} A^T \\vec{y}}\n",
    "\\end{aligned} $$"
   ]
  },
  {
   "cell_type": "markdown",
   "id": "c2c58661-c81e-496b-be18-f843c064a84d",
   "metadata": {},
   "source": [
    "Now, let us format the MNIST data appropriately such that we can solve the above equation. Firstly, let us get $\\mathbf{A}$ by appending an intercept term to our dataset such that `trainImages.shape` returns `(60000, 785)`."
   ]
  },
  {
   "cell_type": "code",
   "execution_count": 12,
   "id": "a20adee2-d837-4afe-b48f-7f78e694195f",
   "metadata": {},
   "outputs": [],
   "source": [
    "import numpy as np\n",
    "\n",
    "# A.shape returns (60000, 784)\n",
    "A = mat_contents['trainX']\n",
    "\n",
    "# normalizing the data\n",
    "A_n = A / 255.0\n",
    "\n",
    "# A.shape returns (60000, 785)\n",
    "A = np.column_stack((A_n, np.ones(60000)))"
   ]
  },
  {
   "cell_type": "markdown",
   "id": "e14933fb-e512-4949-b7e8-c17853b55473",
   "metadata": {},
   "source": [
    "Here, $\\mathbf{A}$ is a $60000 \\times 785$ matrix. Now, we need to find $\\mathbf{\\vec{y}}$. Since $y_i \\in \\left\\{ -1, 1 \\right\\}$, we need to determine which number we are looking for. For now, let's stick with $1$."
   ]
  },
  {
   "cell_type": "code",
   "execution_count": 40,
   "id": "dd6ef9cb-74ad-4110-b7dd-e78b967b935d",
   "metadata": {},
   "outputs": [
    {
     "data": {
      "text/plain": [
       "array([[-1, -1, -1, ..., -1, -1, -1]], dtype=int8)"
      ]
     },
     "execution_count": 40,
     "metadata": {},
     "output_type": "execute_result"
    }
   ],
   "source": [
    "# Y.shape returns (1, 60000)\n",
    "Y = mat_contents['trainY']\n",
    "Y = Y.astype('int8')\n",
    "\n",
    "# Replacing every value that isn't 1 with -1\n",
    "for i in range(Y.shape[1]):\n",
    "    if (Y[0, i] != 1):\n",
    "        Y[0, i] = -1\n",
    "\n",
    "Y"
   ]
  },
  {
   "cell_type": "code",
   "execution_count": 39,
   "id": "2a07eb7b-f71d-4b97-9851-ac62dfb32eb7",
   "metadata": {},
   "outputs": [
    {
     "data": {
      "text/plain": [
       "array([[-1, -1, -1, ..., -1, -1, -1]], dtype=int8)"
      ]
     },
     "execution_count": 39,
     "metadata": {},
     "output_type": "execute_result"
    }
   ],
   "source": []
  },
  {
   "cell_type": "markdown",
   "id": "9a335619-dcc6-4d91-9b6b-6742dc49c27b",
   "metadata": {},
   "source": [
    "Let $\\mathbf{\\beta^*}, \\alpha^*$ be the solution to the above problem. Then the **binary least squares classifier** $\\mathbf{\\hat{f}(x)}$ is given by\n",
    "$$ \\hat{f}(\\mathbf{x}) = \\operatorname{sign}(\\mathbf{{\\beta^*}^T x} + \\alpha^*)$$\n",
    "for arbitrary test data **x**. Here $\\operatorname{sign}(a) = 1$ for $a \\geq 0$ and $-1$ for $a < 0$."
   ]
  },
  {
   "cell_type": "code",
   "execution_count": null,
   "id": "bb1ae1a7-0414-417b-b36a-c36279e268b1",
   "metadata": {},
   "outputs": [],
   "source": []
  },
  {
   "cell_type": "markdown",
   "id": "0dc3122c-d5d4-4a71-89b1-016151394eab",
   "metadata": {},
   "source": [
    "##### Task 2\n",
    "Evaluate the training error of both classifiers using error rate and confusion matrix:\n",
    "- The error rate is the total number of errors in predicted label divided by the total number of inputs being classified.\n",
    "- Confusion matrix (ref. Pg. 287 and 298 from textbook)"
   ]
  },
  {
   "cell_type": "markdown",
   "id": "d0a11105-2f8b-49fc-bd82-46894c3b63b0",
   "metadata": {},
   "source": [
    "##### Task 3\n",
    "Evaluate the performance of both multi-class classifiers on the test data. Comment on their performance. How well do they generalize on the test data? Which digits are easy to recognize, which ones are harder?"
   ]
  },
  {
   "cell_type": "markdown",
   "id": "17290655-a5a6-4720-87cb-ae9657a54832",
   "metadata": {},
   "source": [
    "#### Problem 2: Randomized Feature Based Least Square Classifiers"
   ]
  },
  {
   "cell_type": "markdown",
   "id": "96312ea0-a4a6-4cdf-a697-88e9626f3873",
   "metadata": {},
   "source": [
    "##### Task 1\n",
    "Modify the code for Problem 1 to learn the multi-class classifier in the feature space. Use the following non-linear mappings to construct your feature vectors:\n",
    "- **Identity Function:** $ g(x) = x $\n",
    "- **Sigmoid Function:** $ g(x) = \\frac{1}{1 + e^{-x}} $\n",
    "- **Sinusoidal Function:** $ g(x) = \\operatorname{sin}(x) $\n",
    "- **Rectified Linear Unit (ReLU) Function:** $ g(x) = max(x,0) $\n",
    " \n",
    "Assume that $L = 1000$ for this part. Compare the classification performance for different choices of the feature mapping by changing the non-linearity. Do these feature mappings perform better than the classifier learnt in Problem 2 on (i) Training data (ii) Testing data? Which feature mapping generalizes well, i.e., continues to perform well on the testing data? Discuss your results."
   ]
  },
  {
   "cell_type": "markdown",
   "id": "f6c4c858-fed9-4d19-b053-596c912809a3",
   "metadata": {},
   "source": [
    "##### Task 2\n",
    "Vary the number of features $L$, and plot the error rate as a function of the number of features $L$. Comment on how adding more features affects your classifier design."
   ]
  }
 ],
 "metadata": {
  "kernelspec": {
   "display_name": "Python 3 (ipykernel)",
   "language": "python",
   "name": "python3"
  },
  "language_info": {
   "codemirror_mode": {
    "name": "ipython",
    "version": 3
   },
   "file_extension": ".py",
   "mimetype": "text/x-python",
   "name": "python",
   "nbconvert_exporter": "python",
   "pygments_lexer": "ipython3",
   "version": "3.10.9"
  }
 },
 "nbformat": 4,
 "nbformat_minor": 5
}
