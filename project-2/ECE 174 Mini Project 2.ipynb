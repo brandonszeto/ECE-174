{
 "cells": [
  {
   "cell_type": "markdown",
   "id": "bd16f7ea-8838-4840-b285-2896fc427696",
   "metadata": {
    "jp-MarkdownHeadingCollapsed": true
   },
   "source": [
    "### Import Libraries and Data"
   ]
  },
  {
   "cell_type": "code",
   "execution_count": null,
   "id": "a46707e7-22f7-4159-973e-ccb876836683",
   "metadata": {},
   "outputs": [],
   "source": [
    "import scipy.io\n",
    "import matplotlib.pyplot as plt\n",
    "import numpy as np\n",
    "import random\n",
    "from tqdm.notebook import tqdm"
   ]
  },
  {
   "cell_type": "code",
   "execution_count": 2,
   "id": "438495fa-692a-4434-81a7-2a2e3ce65938",
   "metadata": {},
   "outputs": [],
   "source": [
    "mat_contents = scipy.io.loadmat('mnist', appendmat=True)\n",
    "train_x = np.array(mat_contents['trainX'])\n",
    "train_y = np.array(mat_contents['trainY'])\n",
    "test_x = np.array(mat_contents['testX'])\n",
    "test_y = np.array(mat_contents['testY'])"
   ]
  },
  {
   "cell_type": "markdown",
   "id": "d7f16a0b-83cf-4723-9be3-8469721e33df",
   "metadata": {
    "jp-MarkdownHeadingCollapsed": true
   },
   "source": [
    "### Helper Functions (normalization, error, confusion matrices, etc.)"
   ]
  },
  {
   "cell_type": "code",
   "execution_count": 3,
   "id": "8d2bae21-6048-4dbc-8242-f8688ca2051c",
   "metadata": {},
   "outputs": [],
   "source": [
    "def normalize(data):\n",
    "    return data / 255.0\n",
    "\n",
    "def pinv(data):\n",
    "    return np.linalg.pinv(data)\n",
    "\n",
    "def add_bias(data):\n",
    "    return np.column_stack((data, np.ones(len(data))))"
   ]
  },
  {
   "cell_type": "code",
   "execution_count": 4,
   "id": "33d169eb-0e48-4207-9eb1-2bf005869833",
   "metadata": {},
   "outputs": [],
   "source": [
    "def plot_confusion_matrix(conf_matrix, classes, title='Confusion Matrix', cmap=plt.cm.Greens):\n",
    "    plt.imshow(conf_matrix, interpolation='nearest', cmap=cmap)\n",
    "    plt.title(title)\n",
    "    plt.colorbar()\n",
    "    tick_marks = np.arange(len(classes))\n",
    "    plt.xticks(tick_marks, classes, rotation=45)\n",
    "    plt.yticks(tick_marks, classes)\n",
    "\n",
    "    plt.xlabel('Predicted Label')\n",
    "    plt.ylabel('True Label')\n",
    "\n",
    "    fmt = 'd'\n",
    "    thresh = conf_matrix.max() / 2.\n",
    "    for i in range(conf_matrix.shape[0]):\n",
    "        for j in range(conf_matrix.shape[1]):\n",
    "            plt.text(j, i, format(conf_matrix[i, j], fmt),\n",
    "                     ha=\"center\", va=\"center\",\n",
    "                     color=\"white\" if conf_matrix[i, j] > thresh else \"black\")\n",
    "    plt.tight_layout()\n",
    "    plt.show()\n",
    "\n",
    "def accuracy_score(y_true, y_pred):\n",
    "    return 100 * (sum(1 for true, pred in zip(y_true, y_pred) if true == pred)) / len(y_true)\n",
    "\n",
    "def calculate_accuracy_per_class(y_true, y_pred):\n",
    "    unique_classes = np.unique(y_true)\n",
    "    accuracies = []\n",
    "\n",
    "    for class_label in unique_classes:\n",
    "        class_indices = (y_true == class_label)\n",
    "        \n",
    "        # Flatten y_pred if it has shape (N, 1)\n",
    "        flattened_pred = np.squeeze(y_pred)\n",
    "        \n",
    "        correct_predictions = np.sum(flattened_pred[class_indices.flatten()] == class_label)\n",
    "        total_predictions = np.sum(class_indices)\n",
    "        \n",
    "        if total_predictions > 0:\n",
    "            accuracy = correct_predictions / total_predictions\n",
    "            accuracies.append((class_label, accuracy))\n",
    "        else:\n",
    "            # Handle the case where there are no instances of the class in y_true\n",
    "            accuracies.append((class_label, 0.0))\n",
    "\n",
    "    # Sort accuracies based on accuracy in descending order\n",
    "    accuracies.sort(key=lambda x: x[1], reverse=True)\n",
    "\n",
    "    for class_label, accuracy in accuracies:\n",
    "        print(\"{}: {:.2%} accurate\".format(class_label, accuracy))"
   ]
  },
  {
   "cell_type": "markdown",
   "id": "b2bf1611-99ef-459c-898b-a21b13804319",
   "metadata": {},
   "source": [
    "### Computing Gradients"
   ]
  },
  {
   "cell_type": "markdown",
   "id": "42d05eee-7708-4a99-8cfb-42b789b7e9e1",
   "metadata": {},
   "source": [
    "A more general form for $f_{\\mathbf{w}}(\\mathbf{x})$ provided in (2) is\n",
    "\n",
    "$$ f_{\\mathbf{w}}(\\mathbf{x}) = \\sum_{i = 1}^k \\alpha_i \\phi (a_i^Tx + b_i) + \\beta \\qquad \\forall x \\in \\mathbb{R}^n $$\n",
    "\n",
    "where $\\phi(x): \\mathbb{R} \\rightarrow \\mathbb{R}$ is an arbitrary activation function. The set of parameters $\\mathbf{w} \\in \\mathbb{R}^p$ is defined as\n",
    "\n",
    "$$\\mathbf{w} = \\{ \\alpha_1, \\cdots, \\alpha_k, \\beta, a_1, \\cdots, a_k, b_1, \\cdots, b_k\\}$$\n",
    "\n",
    "where $p = (n + 1)k + k + 1$. Lastly, the let the individual parameters $\\alpha_i \\in \\mathbb{R}$, $\\beta \\in \\mathbb{R}$, $a_i \\in \\mathbb{R}^n$, $b_i \\in \\mathbb{R}$. In (2), we have $n = k = 3$ and $p = 16$."
   ]
  },
  {
   "cell_type": "markdown",
   "id": "e7e6fbf4-94f0-4b2b-ad50-32366c9e5481",
   "metadata": {},
   "source": [
    "By computing partial derivatives, let the gradient $\\nabla_{\\mathbf{w}}f_{\\mathbf{w}}(\\mathbf{x})$ be defined as\n",
    "\n",
    "$$ \\nabla_{\\mathbf{w}}f_{\\mathbf{w}}(\\mathbf{x}) = \n",
    "\\begin{bmatrix}\n",
    "\\frac{\\delta f_{\\mathbf{w}}(\\mathbf{x})}{\\delta w_1} \\\\\n",
    "\\frac{\\delta f_{\\mathbf{w}}(\\mathbf{x})}{\\delta w_2} \\\\\n",
    "\\vdots \\\\\n",
    "\\frac{\\delta f_{\\mathbf{w}}(\\mathbf{x})}{\\delta w_p} \\\\\n",
    "\\end{bmatrix}\n",
    "$$\n",
    "where\n",
    "$$\n",
    "\\frac{\\delta f_{\\mathbf{w}}(\\mathbf{x})}{\\delta w_m} =\n",
    "\\begin{cases}\n",
    "    \\phi(a_i^Tx + b_i)            & \\text{if } w_m = \\alpha_i \\text{ for some } i \\\\\n",
    "    1                             & \\text{if } w_m = \\beta \\\\\n",
    "    \\alpha_i\\phi'(a_i^Tx + b_i)x_j & \\text{if } w_m = a_{ij} \\text{ for some } (i,j) \\\\\n",
    "    \\alpha_i\\phi'(a_i^Tx + b_i)    & \\text{if } w_m = b_i \\text{ for some } i \\\\\n",
    "\\end{cases}\n",
    "$$"
   ]
  },
  {
   "cell_type": "markdown",
   "id": "95b11589-9e53-4acd-95b0-11cf30761b25",
   "metadata": {},
   "source": [
    "Here, $\\phi(x): \\mathbb{R} \\rightarrow \\mathbb{R}$ and its derivative $\\phi'(x)$ are defined as\n",
    "$$ \\begin{aligned}\n",
    "    \\phi(x) &= \\frac{e^x - e^{-x}}{e^x + e^{-x}}                     && = \\tanh(x)  \\\\\n",
    "   \\phi'(x) &= 1 - \\Bigl( \\frac{e^x - e^{-x}}{e^x + e^{-x}} \\Bigr)^2 && = 1 - \\tanh^2(x)  \\\\\n",
    "   \\end{aligned} $$"
   ]
  },
  {
   "cell_type": "code",
   "execution_count": null,
   "id": "0fa970d2-91b3-4df0-ad10-cff13eb1a9cb",
   "metadata": {},
   "outputs": [],
   "source": []
  }
 ],
 "metadata": {
  "kernelspec": {
   "display_name": "Python 3 (ipykernel)",
   "language": "python",
   "name": "python3"
  },
  "language_info": {
   "codemirror_mode": {
    "name": "ipython",
    "version": 3
   },
   "file_extension": ".py",
   "mimetype": "text/x-python",
   "name": "python",
   "nbconvert_exporter": "python",
   "pygments_lexer": "ipython3",
   "version": "3.10.9"
  }
 },
 "nbformat": 4,
 "nbformat_minor": 5
}
