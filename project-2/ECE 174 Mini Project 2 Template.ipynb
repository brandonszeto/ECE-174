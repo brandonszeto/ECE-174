{
 "cells": [
  {
   "cell_type": "markdown",
   "id": "bd16f7ea-8838-4840-b285-2896fc427696",
   "metadata": {
    "jp-MarkdownHeadingCollapsed": true
   },
   "source": [
    "### Import Libraries and Data"
   ]
  },
  {
   "cell_type": "code",
   "execution_count": 1,
   "id": "a46707e7-22f7-4159-973e-ccb876836683",
   "metadata": {},
   "outputs": [],
   "source": [
    "import matplotlib.pyplot as plt\n",
    "import numpy as np\n",
    "import random\n",
    "from tqdm.notebook import tqdm"
   ]
  },
  {
   "cell_type": "markdown",
   "id": "3dc69f27-ea87-4f41-8fda-f63f8c9c3756",
   "metadata": {
    "jp-MarkdownHeadingCollapsed": true
   },
   "source": [
    "### Helper Functions"
   ]
  },
  {
   "cell_type": "code",
   "execution_count": 14,
   "id": "0c3536a9-aeb1-4bb8-b651-d6e6bf72acb3",
   "metadata": {},
   "outputs": [],
   "source": [
    "# Various nonlinearities\n",
    "def tanh(x):\n",
    "    return np.tanh(x)\n",
    "\n",
    "def tanh_prime(x):\n",
    "    return 1 - np.tanh(x)**2\n",
    "\n",
    "def sigmoid(x):\n",
    "    return 1 / (1 + np.exp(-x))\n",
    "\n",
    "def sigmoid_prime(x):\n",
    "    return sigmoid(x) * (1 - sigmoid(x))\n",
    "\n",
    "def relu(x):\n",
    "    return np.maximum(0, x)\n",
    "\n",
    "def relu_prime(x):\n",
    "    return np.where(x > 0, 1, 0)\n",
    "\n",
    "# Evaluates g(x) = x_1 * x_2 + x_3\n",
    "def g(x):\n",
    "    return x[0] * x[1] + x[2]\n",
    "\n",
    "# Returns inverse of given matrix\n",
    "def inv(matrix):\n",
    "    return np.linalg.inv(matrix)\n",
    "\n",
    "# L2 Norm Squared\n",
    "def l2_norm_squared(w):\n",
    "    return w @ w.T\n",
    "\n",
    "# Plots iteration versus loss using matplotlib\n",
    "def plot_loss(loss, title='Iteration Versus Loss'):\n",
    "    # Plotting index versus value\n",
    "    plt.plot(loss)\n",
    "\n",
    "    # Adding labels and title\n",
    "    plt.xlabel('Iteration')\n",
    "    plt.ylabel('Loss')\n",
    "    plt.title(title)\n",
    "\n",
    "    # Display the plot\n",
    "    plt.show()\n",
    "\n",
    "# Computes N predictions \n",
    "def eval_w(w_k, x_train, phi=tanh): # WORKS FINE\n",
    "    result = []\n",
    "    for x in x_train:\n",
    "        x_bias = np.append(x, 1)\n",
    "\n",
    "        alpha_1 = w_k[0]\n",
    "        alpha_2 = w_k[5]\n",
    "        alpha_3 = w_k[10]\n",
    "\n",
    "        a_1 = [w_k[1], w_k[2], w_k[3], w_k[4]]\n",
    "        a_2 = [w_k[6], w_k[7], w_k[8], w_k[9]]\n",
    "        a_3 = [w_k[11], w_k[12], w_k[13], w_k[14]]\n",
    "\n",
    "        beta = w_k[15]\n",
    "\n",
    "        result.append(alpha_1 * phi(a_1 @ x_bias) +\n",
    "                      alpha_2 * phi(a_2 @ x_bias) +\n",
    "                      alpha_3 * phi(a_3 @ x_bias) +\n",
    "                      beta)\n",
    "\n",
    "    return np.array(result)\n",
    "\n",
    "# Evalutes N residuals\n",
    "def residual(w_k, x_train, y_train, phi=tanh): # WORKS FINE\n",
    "    return eval_w(w_k, x_train, phi) - y_train\n",
    "\n",
    "def test(w_star, x_test, y_test):\n",
    "    r = residual(w_star, x_test, y_test)\n",
    "    return l2_norm_squared(r) / 100"
   ]
  },
  {
   "cell_type": "markdown",
   "id": "b2bf1611-99ef-459c-898b-a21b13804319",
   "metadata": {},
   "source": [
    "### Task 1: Computing Gradients"
   ]
  },
  {
   "attachments": {},
   "cell_type": "markdown",
   "id": "3a15a606-ff97-455f-b628-682318afd019",
   "metadata": {},
   "source": [
    "Let $\\phi(x): \\mathbb{R} \\rightarrow \\mathbb{R}$ and its derivative $\\phi'(x)$ be\n",
    "$$ \\begin{aligned}\n",
    "    \\phi(x) &= \\frac{e^x - e^{-x}}{e^x + e^{-x}}                     && = \\tanh(x)  \\\\\n",
    "   \\phi'(x) &= 1 - \\Bigl( \\frac{e^x - e^{-x}}{e^x + e^{-x}} \\Bigr)^2 && = 1 - \\tanh^2(x)  \\\\\n",
    "   \\end{aligned} $$\n",
    "   \\**Later on, when we choose different functions for $\\phi$, we will simply redefine $\\phi$ and $\\phi'$.*\n",
    "\n",
    "More generally, the expression $f_{\\mathbf{w}}(\\mathbf{x})$ in (2) can be written as:\n",
    "$$ f_{\\mathbf{w}}(\\mathbf{x}) = \\sum_{i = 1}^k \\alpha_i \\phi (a_i^Tx + b_i) + \\beta \\qquad \\forall x \\in \\mathbb{R}^n $$\n",
    "where $\\phi(x): \\mathbb{R} \\rightarrow \\mathbb{R}$ is an arbitrary activation function. \n",
    "\n",
    "The set of parameters $\\mathbf{w} \\in \\mathbb{R}^p$ is defined as\n",
    "$$\\mathbf{w} = \\{ (\\alpha_1, a_{1n} \\cdots a_{1n}, b_1) \\cdots (\\alpha_k, a_{kn} \\cdots a_{kn}, b_k) \\beta\\}$$\n",
    "where $p = (n + 1)k + k + 1$. \n",
    "\n",
    "The individual parameters $\\alpha_i \\in \\mathbb{R}$, $\\beta \\in \\mathbb{R}$, $a_i \\in \\mathbb{R}^n$, $b_i \\in \\mathbb{R}$. In (2), we have $n = k = 3$ and $p = 16$ and\n",
    "$$\\mathbf{w} = \\{\\alpha_1, a_{11}, a_{12}, a_{13}, b_1, \\alpha_2, a_{21}, a_{22}, a_{23}, b_2, \\alpha_3, a_{31}, a_{32}, a_{33}, b_3, \\beta\\}$$\n",
    "\n",
    "Let the gradient $\\nabla_{\\mathbf{w}}f_{\\mathbf{w}}(\\mathbf{x})$ be defined as\n",
    "$$ \\nabla_{\\mathbf{w}}f_{\\mathbf{w}}(\\mathbf{x}) = \n",
    "\\biggl[\n",
    "\\frac{\\delta f_{\\mathbf{w}}(\\mathbf{x})}{\\delta w_1} \\quad\n",
    "\\frac{\\delta f_{\\mathbf{w}}(\\mathbf{x})}{\\delta w_2} \\quad\n",
    "\\cdots\n",
    "\\quad\n",
    "\\frac{\\delta f_{\\mathbf{w}}(\\mathbf{x})}{\\delta w_p}\n",
    "\\biggr]^T\n",
    "$$\n",
    "where\n",
    "$$\n",
    "\\frac{\\delta f_{\\mathbf{w}}(\\mathbf{x})}{\\delta w_m} =\n",
    "\\begin{cases}\n",
    "    \\phi(a_i^Tx + b_i)            & \\text{if } w_m = \\alpha_i \\text{ for some } i \\\\\n",
    "    1                             & \\text{if } w_m = \\beta \\\\\n",
    "    \\alpha_i\\phi'(a_i^Tx + b_i)x_j & \\text{if } w_m = a_{ij} \\text{ for some } (i,j) \\\\\n",
    "    \\alpha_i\\phi'(a_i^Tx + b_i)    & \\text{if } w_m = b_i \\text{ for some } i \\\\\n",
    "\\end{cases}\n",
    "$$"
   ]
  },
  {
   "cell_type": "code",
   "execution_count": 3,
   "id": "be7eaa42-e8b3-4c58-b053-fa7da15ea6ff",
   "metadata": {},
   "outputs": [],
   "source": [
    "'''\n",
    "w (vector): array of parameters with length p\n",
    "x (vector): input vector of length 1 x n\n",
    "k (scalar): layers in the neural network\n",
    "'''\n",
    "def gradient(w, x, k=3, phi=tanh, phi_prime=tanh_prime):\n",
    "    n = len(x) # 3 in this case\n",
    "\n",
    "    # k rows each with structure [alpha_k a_k1 ... a_1n b_k]\n",
    "    w_truncated = w[:15]\n",
    "    W = w_truncated.reshape(k, n + 2) # reshape k x (n + 2) \n",
    "    gradient = np.zeros_like(W)\n",
    "\n",
    "    # for every layer calculate\n",
    "    for i in range(k):\n",
    "        alpha_phi_prime = W[i][0] * phi_prime(W[i][1:-1] @ x)\n",
    "        \n",
    "        # case of a_i\n",
    "        gradient[i][0] = phi(W[i][1:-1] @ x)\n",
    "    \n",
    "        # case of a_ij\n",
    "        for j in range(n):\n",
    "            gradient[i][j + 1] = alpha_phi_prime * x[j]\n",
    "    \n",
    "        # case of b_i\n",
    "        gradient[i][-1] = alpha_phi_prime\n",
    "\n",
    "    # appending 1 for case of beta\n",
    "    return np.append(gradient.flatten(), 1) # Shape 1 x p (1 x 16)\n",
    "\n",
    "def init_w_rand(seed=42, lower=0, upper=1):\n",
    "    np.random.seed(seed)\n",
    "    return np.random.uniform(low=lower, high=upper, size=16)"
   ]
  },
  {
   "cell_type": "markdown",
   "id": "71bd47d2-949b-40a0-9b2c-162dfb1dbf9b",
   "metadata": {},
   "source": [
    "### Task 2: Computing Derivative Matrix"
   ]
  },
  {
   "cell_type": "markdown",
   "id": "45435a8e-d485-46b5-9c92-07c40d3e9f86",
   "metadata": {},
   "source": [
    "The Jacobian matrix of a vector-valued function of several variables is the matrix of all of its first-order partial derivatives. Given the dataset $\\{ (x_n, y_n)\\}_{n=1}^N$, let $r_n(w) = f_{\\mathbf{w}}(x_n) - y_n$ and define $r: \\mathbb{R}^p \\rightarrow \\mathbb{R}^N$ such that:\n",
    "$$r(w) = \\bigl[ r_1(w) \\quad r_w(w) \\quad \\cdots \\quad r_N(w) \\bigr]^T$$\n",
    "\n",
    "then the Jacobian matrix $\\operatorname{Dr}(\\mathbf{w}) \\in \\mathbb{R}^{n \\times p}$ is given by\n",
    "$$\n",
    "\\operatorname{Dr}(\\mathbf{w}) = \n",
    "\\begin{bmatrix}\n",
    "\\frac{\\delta r_1}{\\delta w_1} & \\frac{\\delta r_1}{\\delta w_2} & \\cdots & \\frac{\\delta r_1}{\\delta w_p} \\\\\n",
    "\\frac{\\delta r_2}{\\delta w_1} & \\frac{\\delta r_2}{\\delta w_2} & \\cdots & \\frac{\\delta r_2}{\\delta w_p} \\\\\n",
    "\\vdots & \\vdots & \\ddots & \\vdots \\\\\n",
    "\\frac{\\delta r_N}{\\delta w_1} & \\frac{\\delta r_N}{\\delta w_2} & \\cdots & \\frac{\\delta r_N}{\\delta w_p}\n",
    "\\end{bmatrix} =\n",
    "\\begin{bmatrix}\n",
    "\\frac{\\delta f_{\\mathbf{w}}(x_1)}{\\delta w_1} & \\frac{\\delta f_{\\mathbf{w}}(x_1)}{\\delta w_2} & \\cdots & \\frac{\\delta f_{\\mathbf{w}}(x_1)}{\\delta w_p} \\\\\n",
    "\\frac{\\delta f_{\\mathbf{w}}(x_2)}{\\delta w_1} & \\frac{\\delta f_{\\mathbf{w}}(x_2)}{\\delta w_2} & \\cdots & \\frac{\\delta f_{\\mathbf{w}}(x_2)}{\\delta w_p} \\\\\n",
    "\\vdots & \\vdots & \\ddots & \\vdots \\\\\n",
    "\\frac{\\delta f_{\\mathbf{w}}(x_N)}{\\delta w_1} & \\frac{\\delta f_{\\mathbf{w}}(x_N)}{\\delta w_2} & \\cdots & \\frac{\\delta f_{\\mathbf{w}}(x_N)}{\\delta w_p}\n",
    "\\end{bmatrix}\n",
    "$$"
   ]
  },
  {
   "cell_type": "code",
   "execution_count": 4,
   "id": "cc016443-a528-4d0d-863d-1bdc049591af",
   "metadata": {},
   "outputs": [],
   "source": [
    "# X: N samples each with 3 points\n",
    "def jacobian(init_w, x_train, phi=tanh, phi_prime=tanh_prime):\n",
    "    N = len(x_train)\n",
    "    jacobian = np.zeros((N, 16))\n",
    "\n",
    "    for i in range(N):\n",
    "        jacobian[i, :] = gradient(init_w, x_train[i], 3, phi, phi_prime)\n",
    "\n",
    "    return jacobian"
   ]
  },
  {
   "cell_type": "markdown",
   "id": "c2f2908e-6351-480f-94eb-a3d6a11eebc3",
   "metadata": {},
   "source": [
    "### Task 3: Levenberg-Marquardt Algorithm"
   ]
  },
  {
   "cell_type": "markdown",
   "id": "5170264d-ff54-4de5-9c9b-5a30ae2ebcb6",
   "metadata": {},
   "source": [
    "The following is a simple method to generate $N$ random points $\\mathbf{x}^{(n)}=\\left[x_1^{(n)}, x_2^{(n)}, x_3^{(n)}\\right]^T \\in \\mathbb{R}^3$ such that\n",
    "$$ \\max \\left\\{\\left|x_1^{(n)}\\right|,\\left|x_2^{(n)}\\right|,\\left|x_3^{(n)}\\right|\\right\\} \\leqslant \\Gamma$$\n",
    "for all $n = 1, 2, \\ldots, N$ and their corresponding $\\mathbf{y}^{(n)}=x_1^{(n)}x_2^{(n)} + x_3^{(n)}$ values. By default, we have $N = 500$ and $\\Gamma = 1$ (convenient for generating the training set)."
   ]
  },
  {
   "cell_type": "code",
   "execution_count": 5,
   "id": "8488b208-a787-416c-855b-61b9e4e1bff8",
   "metadata": {},
   "outputs": [],
   "source": [
    "'''\n",
    "Parameters:\n",
    "- N: number of random points\n",
    "- seed: random seed\n",
    "- gamma: generate elements in x that are between -gamma and gamma\n",
    "\n",
    "Return:\n",
    "- x: shape (500, 3) matrix\n",
    "- y: shape (500,  ) matrix\n",
    "'''\n",
    "def generate_pairs(N=500, seed=42, gamma=1, epsilon=0):\n",
    "    np.random.seed(seed)\n",
    "    x = np.random.uniform(-gamma, gamma, size=(N, 3))\n",
    "    e = np.random.uniform(-epsilon, epsilon, N)\n",
    "    y = x[:, 0] * x[:, 1] + x[:, 2] + e[:]\n",
    "    return x, y"
   ]
  },
  {
   "cell_type": "markdown",
   "id": "7fb052d3-34db-4d41-8c87-67c9e0889a92",
   "metadata": {},
   "source": [
    "#### Levenberg-Marquardt Algorithm"
   ]
  },
  {
   "attachments": {},
   "cell_type": "markdown",
   "id": "c8e84a57-4e0c-4aaa-a3aa-a7f7e74703da",
   "metadata": {},
   "source": [
    "Initialization. Pick an initial point $w^{(0)}$, an initial trust parameter $\\lambda^{(0)}$, $0 < \\alpha < 1$, and  $\\beta > 1$. \n",
    "\n",
    "For $k = 0, 1, \\ldots, k^{\\text{max}}$:\n",
    "\n",
    "1) First-order approximation of $r$ at $w^{(k)}$: $\\hat{r}(w;w^{(k)}) = r(w^{(k)}) + Dr(w^{(k)})(w - w^{(k)})$.\n",
    "2) Solve the linear least squares problem: $w^* = \\operatorname{arg min} \\parallel \\hat{r}(w; w^{(k)}) \\parallel_2^2 + \\lambda^{(k)} \\parallel w - w^{(k)} \\parallel_2^2$\n",
    "3) Check and update:\n",
    "    - If $\\parallel r(w^{*})) \\parallel_2^2 < \\parallel r(w^{(k)})) \\parallel_2^2$, set $\\lambda^{(k + 1)} = \\alpha \\lambda^{(k)}$ and $w^{(k + 1)} = w^*$.\n",
    "    - Otherwise, set $\\lambda^{(k)} = \\beta \\lambda^{(k)}$ and $w^{(k + 1)} = w^{(k)}$\n",
    "\n",
    "Note that we can rewrite\n",
    "$$ \\begin{aligned}\n",
    "w^* &= \\operatorname{arg min} \\left\\| \\hat{r}(w; w^{(k)}) \\right\\|_2^2 + \\lambda^{(k)} \\left\\| w - w^{(k)} \\right\\|_2^2 \\\\\n",
    "    &= \\operatorname{arg min} \\left\\| Dr(w^{(k)})w - (Dr(w^{(k)})w^{(k)} - r(w^{(k)})) \\right\\|_2^2 + \\left\\| \\sqrt{\\lambda^{(k)}} w - \\sqrt{\\lambda^{(k)}} w^{(k)} \\right\\|_2^2 \\\\\n",
    "    &= \\operatorname{arg min} \\left\\| \n",
    "    \\begin{bmatrix}\n",
    "    Dr(w^{(k)}) \\\\\n",
    "    \\sqrt{\\lambda^{(k)}} I \\\\\n",
    "    \\end{bmatrix}w\n",
    "    -\n",
    "    \\begin{bmatrix}\n",
    "    Dr(w^{(k)})w^{(k)} - r(w^{(k)}) \\\\\n",
    "    \\sqrt{\\lambda^{(k)}} w^{(k)} \\\\\n",
    "    \\end{bmatrix}\n",
    "    \\right\\|^2_2\n",
    "\\end{aligned} $$\n",
    "We know the minimizer to be the psuedoinverse. Therefore, we can write:\n",
    "$$ \\begin{aligned}\n",
    "w^* &= \\left(\n",
    "    \\begin{bmatrix}\n",
    "    Dr(w^{(k)}) \\quad\n",
    "    \\sqrt{\\lambda^{(k)}} I \n",
    "    \\end{bmatrix}\n",
    "    \\begin{bmatrix}\n",
    "    Dr(w^{(k)}) \\\\\n",
    "    \\sqrt{\\lambda^{(k)}} I \\\\\n",
    "    \\end{bmatrix} \n",
    "    \\right)^{-1} \n",
    "    \\begin{bmatrix}\n",
    "    Dr(w^{(k)}) \\quad\n",
    "    \\sqrt{\\lambda^{(k)}} I \n",
    "    \\end{bmatrix} \n",
    "    \\begin{bmatrix}\n",
    "    Dr(w^{(k)})w^{(k)} - r(w^{(k)}) \\\\\n",
    "    \\sqrt{\\lambda^{(k)}} w^{(k)} \\\\\n",
    "    \\end{bmatrix}\\\\\n",
    "    &= \\left( Dr(w^{(k)})^TDr(w^{(k)}) + \\lambda^{(k)}I \\right)^{-1} \\left( Dr(w^{(k)})^TDr(w^{(k)})w^{(k)} - Dr(w^{(k)})^TDr(w^{(k)}) + \\lambda^{(k)}w^{(k)} \\right) \\\\\n",
    "    &= \\left( Dr(w^{(k)})^TDr(w^{(k)}) + \\lambda^{(k)}I \\right)^{-1} \\left( Dr(w^{(k)})^TDr(w^{(k)}) + \\lambda^{(k)}I \\right)w^{(k)} - Dr(w^{(k)})^Tr(w^{(k)}) \\\\\n",
    "    &= w^{(k)} - \\left( Dr(w^{(k)})^TDr(w^{(k)}) + \\lambda^{(k)}I \\right)^{-1} Dr(w^{(k)})^T r(w^{(k)})\n",
    "\\end{aligned} $$"
   ]
  },
  {
   "cell_type": "code",
   "execution_count": 6,
   "id": "950e3da5-844d-4db3-a139-5b98221958fd",
   "metadata": {},
   "outputs": [],
   "source": [
    "'''\n",
    "Levenberg-Marquardt Algorithm:\n",
    "\n",
    "Parameters:\n",
    "- train_x: shape (500, 3) matrix \n",
    "- train_y: shape (500,  ) matrix\n",
    "- init_lambda: default 10^-5\n",
    "- init_w: inital parameters\n",
    "- alpha: param\n",
    "- beta: param\n",
    "\n",
    "Returns:\n",
    "- w_k: the final p parameters produces by the algorithm\n",
    "- loss: an array with indices = iteration and value = loss at that iteration\n",
    "'''\n",
    "def lm(x, y, w_init, k_max, alpha, beta, init_lambda=10**-5, phi=tanh, phi_prime=tanh_prime):\n",
    "    w_k = w_init\n",
    "    l_k = init_lambda\n",
    "    loss = [0] * k_max\n",
    "    I = np.eye(16)\n",
    "    \n",
    "    for k in tqdm(range(k_max)):\n",
    "        D = jacobian(w_k, x, phi, phi_prime)\n",
    "        DT = D.T\n",
    "        r = residual(w_k, x, y, phi)\n",
    "\n",
    "        # (16, ) - ( (16, 500) @ (500, 16) )^-1 @ ((16, 500) @ (500, ))\n",
    "        # (16, ) - (16, 16)^-1 @ (16, )\n",
    "        # (16, ) - (16, )\n",
    "        w_star = w_k - inv(DT @ D + l_k * I) @ (DT @ r)\n",
    "\n",
    "        loss[k] = l2_norm_squared(residual(w_star, x, y, phi)) / 500\n",
    "\n",
    "        l2_norm_squared_w_star = l2_norm_squared(w_star)\n",
    "        l2_norm_squared_w_k = l2_norm_squared(w_k)\n",
    "        \n",
    "        # Check and update\n",
    "        if l2_norm_squared_w_star < l2_norm_squared_w_k:\n",
    "            # print(\"----------------------\")\n",
    "            l_k = alpha * l_k\n",
    "            w_k = w_star\n",
    "            l2_norm_squared_w_k = l2_norm_squared_w_star\n",
    "        else:\n",
    "            l_k = beta * l_k\n",
    "            # print(f\"lambda at {k}: {l_k}\")\n",
    "        \n",
    "        if l2_norm_squared_w_k < 0.01:\n",
    "            break\n",
    "\n",
    "    return w_k, loss"
   ]
  },
  {
   "cell_type": "markdown",
   "id": "5ef82f58-143f-450e-93ee-4526e190297a",
   "metadata": {},
   "source": [
    "### Task 3ab): Training/Testing loss using $\\phi = \\operatorname{tanh}(x)$"
   ]
  },
  {
   "cell_type": "code",
   "execution_count": 7,
   "id": "93d7b138-0d68-4e59-afc2-d992d4b7b7ce",
   "metadata": {},
   "outputs": [],
   "source": [
    "x_train, y_train = generate_pairs()"
   ]
  },
  {
   "cell_type": "markdown",
   "id": "dd3fdcaa-dd5f-4514-97ed-4642c85a1923",
   "metadata": {},
   "source": [
    "#### a) Training with various parameter initializations "
   ]
  },
  {
   "cell_type": "code",
   "execution_count": 8,
   "id": "68658c36-64f2-48e9-92c9-3e17ef0ca761",
   "metadata": {},
   "outputs": [
    {
     "data": {
      "application/vnd.jupyter.widget-view+json": {
       "model_id": "f702d6cdc1474a47a8a48598b8b1feb2",
       "version_major": 2,
       "version_minor": 0
      },
      "text/plain": [
       "  0%|          | 0/250 [00:00<?, ?it/s]"
      ]
     },
     "metadata": {},
     "output_type": "display_data"
    }
   ],
   "source": [
    "# Random value between zero and one\n",
    "w_1 = init_w_rand(42, 0, 1)\n",
    "w_star_1, loss_1 = lm(x=x_train, y=y_train, w_init=w_1, k_max=250, alpha=.8, beta=2, init_lambda=10**-5, phi=tanh, phi_prime=tanh_prime)"
   ]
  },
  {
   "cell_type": "code",
   "execution_count": 9,
   "id": "9583bb18-4000-442b-992c-a518294abdf0",
   "metadata": {},
   "outputs": [
    {
     "data": {
      "application/vnd.jupyter.widget-view+json": {
       "model_id": "7b21a1166d0841a88d922c58b0ec49c5",
       "version_major": 2,
       "version_minor": 0
      },
      "text/plain": [
       "  0%|          | 0/250 [00:00<?, ?it/s]"
      ]
     },
     "metadata": {},
     "output_type": "display_data"
    }
   ],
   "source": [
    "# Random value between -1 and 1\n",
    "w_2 = init_w_rand(42, -1, 1)\n",
    "w_star_2, loss_2 = lm(x=x_train, y=y_train, w_init=w_2, k_max=250, alpha=.8, beta=2, init_lambda=10**-5, phi=tanh, phi_prime=tanh_prime)"
   ]
  },
  {
   "cell_type": "code",
   "execution_count": 10,
   "id": "411ca3e8-fafe-4b1f-82bc-4a1a69f4243c",
   "metadata": {},
   "outputs": [
    {
     "data": {
      "application/vnd.jupyter.widget-view+json": {
       "model_id": "c5f57bc5bdb24ca7b31aa79ed509f1ec",
       "version_major": 2,
       "version_minor": 0
      },
      "text/plain": [
       "  0%|          | 0/250 [00:00<?, ?it/s]"
      ]
     },
     "metadata": {},
     "output_type": "display_data"
    }
   ],
   "source": [
    "# All ones\n",
    "w_3 = np.ones(16)\n",
    "w_star_3, loss_3 = lm(x=x_train, y=y_train, w_init=w_3, k_max=250, alpha=.8, beta=2, init_lambda=10**-5, phi=tanh, phi_prime=tanh_prime)"
   ]
  },
  {
   "cell_type": "code",
   "execution_count": 11,
   "id": "7e6b18a0-4866-47bd-9dae-ba5c01b14e2b",
   "metadata": {},
   "outputs": [
    {
     "data": {
      "application/vnd.jupyter.widget-view+json": {
       "model_id": "b89b2714fb954e82ad547162ea8647aa",
       "version_major": 2,
       "version_minor": 0
      },
      "text/plain": [
       "  0%|          | 0/250 [00:00<?, ?it/s]"
      ]
     },
     "metadata": {},
     "output_type": "display_data"
    }
   ],
   "source": [
    "# All negative ones\n",
    "w_4 = -np.ones(16)\n",
    "w_star_4, loss_4 = lm(x=x_train, y=y_train, w_init=w_4, k_max=250, alpha=.8, beta=2, init_lambda=10**-5, phi=tanh, phi_prime=tanh_prime)"
   ]
  },
  {
   "cell_type": "code",
   "execution_count": 13,
   "id": "227b9a3c-ef92-49fc-8139-ca719ad25590",
   "metadata": {},
   "outputs": [
    {
     "data": {
      "image/png": "[encoded data removed]",
      "text/plain": [
       "<Figure size 1200x1200 with 2 Axes>"
      ]
     },
     "metadata": {},
     "output_type": "display_data"
    }
   ],
   "source": [
    "# Plotting results\n",
    "plt.figure(figsize=(12, 12))\n",
    "\n",
    "# Plot 1: Entire range\n",
    "plt.subplot(3, 1, 1)\n",
    "plt.plot(loss_1, label='0 < w < 1')\n",
    "plt.plot(loss_2, label='-1 < w < 1')\n",
    "plt.plot(loss_3, label='w = 1')\n",
    "plt.plot(loss_4, label='w = -1')\n",
    "plt.xlabel('Iteration')\n",
    "plt.ylabel('Mean Squared Error')\n",
    "plt.title('Training Loss Over Iterations with Different Initial Parameters')\n",
    "plt.legend()\n",
    "\n",
    "# Plot 2: Range from index 50 to the end\n",
    "plt.subplot(3, 1, 2)\n",
    "plt.plot(range(15, 35), loss_1[15:35], label='0 < w < 1')\n",
    "plt.plot(range(15, 35), loss_2[15:35], label='-1 < w < 1')\n",
    "plt.plot(range(15, 35), loss_3[15:35], label='w = 1')\n",
    "plt.plot(range(15, 35), loss_3[15:35], label='w = -1')\n",
    "plt.xlabel('Iteration')\n",
    "plt.ylabel('Mean Squared Error')\n",
    "plt.title('Closeup View')\n",
    "plt.legend()\n",
    "plt.tight_layout()  # Adjust layout to prevent overlapping\n",
    "\n",
    "plt.show()"
   ]
  },
  {
   "cell_type": "markdown",
   "id": "52b2c080-7b8f-4bbc-a1d1-942ce6f019c4",
   "metadata": {},
   "source": [
    "#### ai) Testing on $N = 500$ training points"
   ]
  },
  {
   "cell_type": "code",
   "execution_count": 27,
   "id": "46859313-21d8-4047-b2f2-22736af3841c",
   "metadata": {},
   "outputs": [
    {
     "name": "stdout",
     "output_type": "stream",
     "text": [
      "MSE ( 0 < w < 1) : 1.8470222560763676\n",
      "MSE (-1 < w < 1) : 1.0860424123061616\n",
      "MSE (w =  1)     : 0.5852136951837966\n",
      "MSE (w = -1)     : 0.5852138022970835\n"
     ]
    }
   ],
   "source": [
    "print(f'MSE ( 0 < w < 1) : {test(w_star_1, x_train, y_train)}')\n",
    "print(f'MSE (-1 < w < 1) : {test(w_star_2, x_train, y_train)}')\n",
    "print(f'MSE (w =  1)     : {test(w_star_3, x_train, y_train)}')\n",
    "print(f'MSE (w = -1)     : {test(w_star_4, x_train, y_train)}')"
   ]
  },
  {
   "cell_type": "markdown",
   "id": "1d9547cd-b33f-4aae-866e-74196f8f027a",
   "metadata": {},
   "source": [
    "#### b) Testing on $N_T = 100$ testing points with various $\\lambda$, $\\Gamma_T$"
   ]
  },
  {
   "cell_type": "code",
   "execution_count": 38,
   "id": "0b76d1ad-24b4-487c-8880-385056add361",
   "metadata": {},
   "outputs": [
    {
     "name": "stdout",
     "output_type": "stream",
     "text": [
      "MSE ( 0 < w < 1) : 0.4083882466124927\n",
      "MSE (-1 < w < 1) : 0.24023989580766408\n",
      "MSE (w =  1)     : 0.1295476871727217\n",
      "MSE (w = -1)     : 0.12954769825604273\n"
     ]
    }
   ],
   "source": [
    "x_test_g1, y_test_g1 = generate_pairs(N=100, seed=6, gamma=1, epsilon=0)\n",
    "print(f'MSE ( 0 < w < 1) : {test(w_star_1, x_test_g1, y_test_g1)}')\n",
    "print(f'MSE (-1 < w < 1) : {test(w_star_2, x_test_g1, y_test_g1)}')\n",
    "print(f'MSE (w =  1)     : {test(w_star_3, x_test_g1, y_test_g1)}')\n",
    "print(f'MSE (w = -1)     : {test(w_star_4, x_test_g1, y_test_g1)}')"
   ]
  },
  {
   "cell_type": "code",
   "execution_count": 39,
   "id": "afa13a75-731d-4cca-a1b7-8f607be1f5b8",
   "metadata": {},
   "outputs": [
    {
     "name": "stdout",
     "output_type": "stream",
     "text": [
      "MSE ( 0 < w < 1) : 0.10051985819841486\n",
      "MSE (-1 < w < 1) : 0.0803551768909195\n",
      "MSE (w =  1)     : 0.007897024118702129\n",
      "MSE (w = -1)     : 0.00789702674613867\n"
     ]
    }
   ],
   "source": [
    "x_test_g2, y_test_g2 = generate_pairs(N=100, seed=6, gamma=0.5, epsilon=0)\n",
    "print(f'MSE ( 0 < w < 1) : {test(w_star_1, x_test_g2, y_test_g2)}')\n",
    "print(f'MSE (-1 < w < 1) : {test(w_star_2, x_test_g2, y_test_g2)}')\n",
    "print(f'MSE (w =  1)     : {test(w_star_3, x_test_g2, y_test_g2)}')\n",
    "print(f'MSE (w = -1)     : {test(w_star_4, x_test_g2, y_test_g2)}')"
   ]
  },
  {
   "cell_type": "code",
   "execution_count": 40,
   "id": "6a369dbb-645a-47c8-bd5a-00957f110bd3",
   "metadata": {},
   "outputs": [
    {
     "name": "stdout",
     "output_type": "stream",
     "text": [
      "MSE ( 0 < w < 1) : 1.28841419003023\n",
      "MSE (-1 < w < 1) : 0.8881771533496456\n",
      "MSE (w =  1)     : 0.6744325921001858\n",
      "MSE (w = -1)     : 0.6744326098807473\n"
     ]
    }
   ],
   "source": [
    "x_test_g3, y_test_g3 = generate_pairs(N=100, seed=6, gamma=1.5, epsilon=0)\n",
    "print(f'MSE ( 0 < w < 1) : {test(w_star_1, x_test_g3, y_test_g3)}')\n",
    "print(f'MSE (-1 < w < 1) : {test(w_star_2, x_test_g3, y_test_g3)}')\n",
    "print(f'MSE (w =  1)     : {test(w_star_3, x_test_g3, y_test_g3)}')\n",
    "print(f'MSE (w = -1)     : {test(w_star_4, x_test_g3, y_test_g3)}')"
   ]
  },
  {
   "cell_type": "markdown",
   "id": "d780acb0-4b96-4354-ab4a-d7844e7ee61b",
   "metadata": {},
   "source": [
    "### Task 3ci): Training/Testing loss with different w, $\\lambda$, $\\Gamma$ using $\\phi = \\operatorname{sigmoid}(x)$"
   ]
  },
  {
   "cell_type": "markdown",
   "id": "0ee26c8b-ab3a-4328-aae1-ee2ecb1c204f",
   "metadata": {
    "jp-MarkdownHeadingCollapsed": true
   },
   "source": [
    "#### a) Training with various parameter initializations "
   ]
  },
  {
   "cell_type": "markdown",
   "id": "afbd3e6b-2c85-475c-80a4-bd2ec41bc903",
   "metadata": {},
   "source": [
    "#### ai) Testing on $N = 500$ training points"
   ]
  },
  {
   "cell_type": "markdown",
   "id": "851b0dbe-bb7b-45fc-bd36-275b9d8d46c9",
   "metadata": {},
   "source": [
    "#### b) Testing on $N_T = 100$ testing points with various $\\lambda$, $\\Gamma_T$"
   ]
  },
  {
   "cell_type": "markdown",
   "id": "d4d4b98c-941c-4c71-8cb1-bfdd8101e4ba",
   "metadata": {},
   "source": [
    "### Task 3cii): Training/Testing loss with different w, $\\lambda$, $\\Gamma$ using $\\phi = \\operatorname{relu}(x)$"
   ]
  },
  {
   "cell_type": "markdown",
   "id": "2b328c2c-a941-4802-b915-0ab37c425996",
   "metadata": {},
   "source": [
    "#### a) Training with various parameter initializations "
   ]
  },
  {
   "cell_type": "markdown",
   "id": "a87dee33-34bf-45ef-a6b1-868970e5fc1a",
   "metadata": {},
   "source": [
    "#### ai) Testing on $N = 500$ training points"
   ]
  },
  {
   "cell_type": "markdown",
   "id": "145d9e88-993e-47aa-a4a3-6abb7e759b09",
   "metadata": {
    "jp-MarkdownHeadingCollapsed": true
   },
   "source": [
    "#### b) Testing on $N_T = 100$ testing points with various $\\lambda$, $\\Gamma_T$"
   ]
  },
  {
   "cell_type": "markdown",
   "id": "e0d1c266-1daa-4dd7-81cd-2c14594b8abd",
   "metadata": {},
   "source": [
    "### Task 3d): Training/Testing loss with different w, $\\lambda$, $\\Gamma$ with added noise"
   ]
  },
  {
   "cell_type": "markdown",
   "id": "2b662b49-9426-4bae-b6d2-b092fcd362d3",
   "metadata": {
    "jp-MarkdownHeadingCollapsed": true
   },
   "source": [
    "#### a) Training with various parameter initializations "
   ]
  },
  {
   "cell_type": "markdown",
   "id": "6228279b-457f-4708-8139-9b41461ba0c2",
   "metadata": {
    "jp-MarkdownHeadingCollapsed": true
   },
   "source": [
    "#### ai) Testing on $N = 500$ training points"
   ]
  },
  {
   "cell_type": "markdown",
   "id": "a9a00ee0-09ed-4b9c-b588-bf9c7611fd83",
   "metadata": {},
   "source": [
    "#### b) Testing on $N_T = 100$ testing points with various $\\lambda$, $\\Gamma_T$"
   ]
  }
 ],
 "metadata": {
  "kernelspec": {
   "display_name": "Python 3 (ipykernel)",
   "language": "python",
   "name": "python3"
  },
  "language_info": {
   "codemirror_mode": {
    "name": "ipython",
    "version": 3
   },
   "file_extension": ".py",
   "mimetype": "text/x-python",
   "name": "python",
   "nbconvert_exporter": "python",
   "pygments_lexer": "ipython3",
   "version": "3.10.9"
  }
 },
 "nbformat": 4,
 "nbformat_minor": 5
}
